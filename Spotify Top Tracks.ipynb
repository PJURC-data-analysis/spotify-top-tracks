{
 "cells": [
  {
   "cell_type": "markdown",
   "id": "33c8ad9d",
   "metadata": {},
   "source": [
    "<h1>Spotify - Top 50 tracks of 2020</h1>\n",
    "<a href=\"https://www.kaggle.com/datasets/atillacolak/top-50-spotify-tracks-2020\" target=\"_blank\">Dataset source</a>\n",
    "\n",
    "<h1>Purpose of the analysis</h1>\n",
    "<p>The analysis explores several numerical features of the most popular songs within the music streaming platform Spotify. The aim is to assemble a \"blueprint\" of a hit song.</p>"
   ]
  },
  {
   "cell_type": "markdown",
   "id": "e2e031d1",
   "metadata": {},
   "source": [
    "<h1 id=\"initial-setup\">Initial Setup</h1>\n",
    "<p>Import the modules, read the file contents, print data head.</p>"
   ]
  },
  {
   "cell_type": "code",
   "execution_count": 1,
   "id": "4e2a5f55",
   "metadata": {},
   "outputs": [],
   "source": [
    "import numpy as np\n",
    "import pandas as pd\n",
    "from typing import List"
   ]
  },
  {
   "cell_type": "code",
   "execution_count": 2,
   "id": "01af14b8",
   "metadata": {},
   "outputs": [
    {
     "data": {
      "text/html": [
       "<div>\n",
       "<style scoped>\n",
       "    .dataframe tbody tr th:only-of-type {\n",
       "        vertical-align: middle;\n",
       "    }\n",
       "\n",
       "    .dataframe tbody tr th {\n",
       "        vertical-align: top;\n",
       "    }\n",
       "\n",
       "    .dataframe thead th {\n",
       "        text-align: right;\n",
       "    }\n",
       "</style>\n",
       "<table border=\"1\" class=\"dataframe\">\n",
       "  <thead>\n",
       "    <tr style=\"text-align: right;\">\n",
       "      <th></th>\n",
       "      <th>0</th>\n",
       "      <th>1</th>\n",
       "      <th>2</th>\n",
       "      <th>3</th>\n",
       "      <th>4</th>\n",
       "    </tr>\n",
       "  </thead>\n",
       "  <tbody>\n",
       "    <tr>\n",
       "      <th>placement</th>\n",
       "      <td>1</td>\n",
       "      <td>2</td>\n",
       "      <td>3</td>\n",
       "      <td>4</td>\n",
       "      <td>5</td>\n",
       "    </tr>\n",
       "    <tr>\n",
       "      <th>artist</th>\n",
       "      <td>The Weeknd</td>\n",
       "      <td>Tones And I</td>\n",
       "      <td>Roddy Ricch</td>\n",
       "      <td>SAINt JHN</td>\n",
       "      <td>Dua Lipa</td>\n",
       "    </tr>\n",
       "    <tr>\n",
       "      <th>album</th>\n",
       "      <td>After Hours</td>\n",
       "      <td>Dance Monkey</td>\n",
       "      <td>Please Excuse Me For Being Antisocial</td>\n",
       "      <td>Roses (Imanbek Remix)</td>\n",
       "      <td>Future Nostalgia</td>\n",
       "    </tr>\n",
       "    <tr>\n",
       "      <th>track_name</th>\n",
       "      <td>Blinding Lights</td>\n",
       "      <td>Dance Monkey</td>\n",
       "      <td>The Box</td>\n",
       "      <td>Roses - Imanbek Remix</td>\n",
       "      <td>Don't Start Now</td>\n",
       "    </tr>\n",
       "    <tr>\n",
       "      <th>track_id</th>\n",
       "      <td>0VjIjW4GlUZAMYd2vXMi3b</td>\n",
       "      <td>1rgnBhdG2JDFTbYkYRZAku</td>\n",
       "      <td>0nbXyq5TXYPCO7pr3N8S4I</td>\n",
       "      <td>2Wo6QQD1KMDWeFkkjLqwx5</td>\n",
       "      <td>3PfIrDoz19wz7qK7tYeu62</td>\n",
       "    </tr>\n",
       "    <tr>\n",
       "      <th>energy</th>\n",
       "      <td>0.73</td>\n",
       "      <td>0.593</td>\n",
       "      <td>0.586</td>\n",
       "      <td>0.721</td>\n",
       "      <td>0.793</td>\n",
       "    </tr>\n",
       "    <tr>\n",
       "      <th>danceability</th>\n",
       "      <td>0.514</td>\n",
       "      <td>0.825</td>\n",
       "      <td>0.896</td>\n",
       "      <td>0.785</td>\n",
       "      <td>0.793</td>\n",
       "    </tr>\n",
       "    <tr>\n",
       "      <th>key</th>\n",
       "      <td>1</td>\n",
       "      <td>6</td>\n",
       "      <td>10</td>\n",
       "      <td>8</td>\n",
       "      <td>11</td>\n",
       "    </tr>\n",
       "    <tr>\n",
       "      <th>loudness</th>\n",
       "      <td>-5.934</td>\n",
       "      <td>-6.401</td>\n",
       "      <td>-6.687</td>\n",
       "      <td>-5.457</td>\n",
       "      <td>-4.521</td>\n",
       "    </tr>\n",
       "    <tr>\n",
       "      <th>acousticness</th>\n",
       "      <td>0.00146</td>\n",
       "      <td>0.688</td>\n",
       "      <td>0.104</td>\n",
       "      <td>0.0149</td>\n",
       "      <td>0.0123</td>\n",
       "    </tr>\n",
       "    <tr>\n",
       "      <th>speechiness</th>\n",
       "      <td>0.0598</td>\n",
       "      <td>0.0988</td>\n",
       "      <td>0.0559</td>\n",
       "      <td>0.0506</td>\n",
       "      <td>0.083</td>\n",
       "    </tr>\n",
       "    <tr>\n",
       "      <th>instrumentalness</th>\n",
       "      <td>0.000095</td>\n",
       "      <td>0.000161</td>\n",
       "      <td>0.0</td>\n",
       "      <td>0.00432</td>\n",
       "      <td>0.0</td>\n",
       "    </tr>\n",
       "    <tr>\n",
       "      <th>liveness</th>\n",
       "      <td>0.0897</td>\n",
       "      <td>0.17</td>\n",
       "      <td>0.79</td>\n",
       "      <td>0.285</td>\n",
       "      <td>0.0951</td>\n",
       "    </tr>\n",
       "    <tr>\n",
       "      <th>valence</th>\n",
       "      <td>0.334</td>\n",
       "      <td>0.54</td>\n",
       "      <td>0.642</td>\n",
       "      <td>0.894</td>\n",
       "      <td>0.679</td>\n",
       "    </tr>\n",
       "    <tr>\n",
       "      <th>tempo</th>\n",
       "      <td>171.005</td>\n",
       "      <td>98.078</td>\n",
       "      <td>116.971</td>\n",
       "      <td>121.962</td>\n",
       "      <td>123.95</td>\n",
       "    </tr>\n",
       "    <tr>\n",
       "      <th>duration_ms</th>\n",
       "      <td>200040</td>\n",
       "      <td>209755</td>\n",
       "      <td>196653</td>\n",
       "      <td>176219</td>\n",
       "      <td>183290</td>\n",
       "    </tr>\n",
       "    <tr>\n",
       "      <th>genre</th>\n",
       "      <td>R&amp;B/Soul</td>\n",
       "      <td>Alternative/Indie</td>\n",
       "      <td>Hip-Hop/Rap</td>\n",
       "      <td>Dance/Electronic</td>\n",
       "      <td>Nu-disco</td>\n",
       "    </tr>\n",
       "  </tbody>\n",
       "</table>\n",
       "</div>"
      ],
      "text/plain": [
       "                                       0                       1  \\\n",
       "placement                              1                       2   \n",
       "artist                        The Weeknd             Tones And I   \n",
       "album                        After Hours            Dance Monkey   \n",
       "track_name               Blinding Lights            Dance Monkey   \n",
       "track_id          0VjIjW4GlUZAMYd2vXMi3b  1rgnBhdG2JDFTbYkYRZAku   \n",
       "energy                              0.73                   0.593   \n",
       "danceability                       0.514                   0.825   \n",
       "key                                    1                       6   \n",
       "loudness                          -5.934                  -6.401   \n",
       "acousticness                     0.00146                   0.688   \n",
       "speechiness                       0.0598                  0.0988   \n",
       "instrumentalness                0.000095                0.000161   \n",
       "liveness                          0.0897                    0.17   \n",
       "valence                            0.334                    0.54   \n",
       "tempo                            171.005                  98.078   \n",
       "duration_ms                       200040                  209755   \n",
       "genre                           R&B/Soul       Alternative/Indie   \n",
       "\n",
       "                                                      2  \\\n",
       "placement                                             3   \n",
       "artist                                      Roddy Ricch   \n",
       "album             Please Excuse Me For Being Antisocial   \n",
       "track_name                                      The Box   \n",
       "track_id                         0nbXyq5TXYPCO7pr3N8S4I   \n",
       "energy                                            0.586   \n",
       "danceability                                      0.896   \n",
       "key                                                  10   \n",
       "loudness                                         -6.687   \n",
       "acousticness                                      0.104   \n",
       "speechiness                                      0.0559   \n",
       "instrumentalness                                    0.0   \n",
       "liveness                                           0.79   \n",
       "valence                                           0.642   \n",
       "tempo                                           116.971   \n",
       "duration_ms                                      196653   \n",
       "genre                                       Hip-Hop/Rap   \n",
       "\n",
       "                                       3                       4  \n",
       "placement                              4                       5  \n",
       "artist                         SAINt JHN                Dua Lipa  \n",
       "album              Roses (Imanbek Remix)        Future Nostalgia  \n",
       "track_name         Roses - Imanbek Remix         Don't Start Now  \n",
       "track_id          2Wo6QQD1KMDWeFkkjLqwx5  3PfIrDoz19wz7qK7tYeu62  \n",
       "energy                             0.721                   0.793  \n",
       "danceability                       0.785                   0.793  \n",
       "key                                    8                      11  \n",
       "loudness                          -5.457                  -4.521  \n",
       "acousticness                      0.0149                  0.0123  \n",
       "speechiness                       0.0506                   0.083  \n",
       "instrumentalness                 0.00432                     0.0  \n",
       "liveness                           0.285                  0.0951  \n",
       "valence                            0.894                   0.679  \n",
       "tempo                            121.962                  123.95  \n",
       "duration_ms                       176219                  183290  \n",
       "genre                   Dance/Electronic                Nu-disco  "
      ]
     },
     "execution_count": 2,
     "metadata": {},
     "output_type": "execute_result"
    }
   ],
   "source": [
    "df_tracks = pd.read_csv('../data/spotify_top_tracks.csv', index_col=0)\n",
    "df_tracks.reset_index(inplace=True)\n",
    "df_tracks = df_tracks.rename(columns = {'index':'placement'})\n",
    "df_tracks['placement'] = df_tracks['placement'] + 1\n",
    "df_tracks.head(5).T"
   ]
  },
  {
   "cell_type": "markdown",
   "id": "b594bfd3",
   "metadata": {},
   "source": [
    "<h1 id=\"data-cleaning\">Data Cleaning</h1>\n",
    "<p>Check whether all numeric values fall within the expected range. Query for missing values, check whether there are no duplicate tracks within the dataset.</p>"
   ]
  },
  {
   "cell_type": "code",
   "execution_count": 3,
   "id": "30e8984f",
   "metadata": {},
   "outputs": [
    {
     "data": {
      "text/html": [
       "<div>\n",
       "<style scoped>\n",
       "    .dataframe tbody tr th:only-of-type {\n",
       "        vertical-align: middle;\n",
       "    }\n",
       "\n",
       "    .dataframe tbody tr th {\n",
       "        vertical-align: top;\n",
       "    }\n",
       "\n",
       "    .dataframe thead th {\n",
       "        text-align: right;\n",
       "    }\n",
       "</style>\n",
       "<table border=\"1\" class=\"dataframe\">\n",
       "  <thead>\n",
       "    <tr style=\"text-align: right;\">\n",
       "      <th></th>\n",
       "      <th>placement</th>\n",
       "      <th>energy</th>\n",
       "      <th>danceability</th>\n",
       "      <th>key</th>\n",
       "      <th>loudness</th>\n",
       "      <th>acousticness</th>\n",
       "      <th>speechiness</th>\n",
       "      <th>instrumentalness</th>\n",
       "      <th>liveness</th>\n",
       "      <th>valence</th>\n",
       "      <th>tempo</th>\n",
       "      <th>duration_ms</th>\n",
       "    </tr>\n",
       "  </thead>\n",
       "  <tbody>\n",
       "    <tr>\n",
       "      <th>count</th>\n",
       "      <td>50.00000</td>\n",
       "      <td>50.000000</td>\n",
       "      <td>50.000000</td>\n",
       "      <td>50.000000</td>\n",
       "      <td>50.000000</td>\n",
       "      <td>50.000000</td>\n",
       "      <td>50.000000</td>\n",
       "      <td>50.000000</td>\n",
       "      <td>50.000000</td>\n",
       "      <td>50.000000</td>\n",
       "      <td>50.000000</td>\n",
       "      <td>50.000000</td>\n",
       "    </tr>\n",
       "    <tr>\n",
       "      <th>mean</th>\n",
       "      <td>25.50000</td>\n",
       "      <td>0.609300</td>\n",
       "      <td>0.716720</td>\n",
       "      <td>5.720000</td>\n",
       "      <td>-6.225900</td>\n",
       "      <td>0.256206</td>\n",
       "      <td>0.124158</td>\n",
       "      <td>0.015962</td>\n",
       "      <td>0.196552</td>\n",
       "      <td>0.555710</td>\n",
       "      <td>119.690460</td>\n",
       "      <td>199955.360000</td>\n",
       "    </tr>\n",
       "    <tr>\n",
       "      <th>std</th>\n",
       "      <td>14.57738</td>\n",
       "      <td>0.154348</td>\n",
       "      <td>0.124975</td>\n",
       "      <td>3.709007</td>\n",
       "      <td>2.349744</td>\n",
       "      <td>0.265250</td>\n",
       "      <td>0.116836</td>\n",
       "      <td>0.094312</td>\n",
       "      <td>0.176610</td>\n",
       "      <td>0.216386</td>\n",
       "      <td>25.414778</td>\n",
       "      <td>33996.122488</td>\n",
       "    </tr>\n",
       "    <tr>\n",
       "      <th>min</th>\n",
       "      <td>1.00000</td>\n",
       "      <td>0.225000</td>\n",
       "      <td>0.351000</td>\n",
       "      <td>0.000000</td>\n",
       "      <td>-14.454000</td>\n",
       "      <td>0.001460</td>\n",
       "      <td>0.029000</td>\n",
       "      <td>0.000000</td>\n",
       "      <td>0.057400</td>\n",
       "      <td>0.060500</td>\n",
       "      <td>75.801000</td>\n",
       "      <td>140526.000000</td>\n",
       "    </tr>\n",
       "    <tr>\n",
       "      <th>25%</th>\n",
       "      <td>13.25000</td>\n",
       "      <td>0.494000</td>\n",
       "      <td>0.672500</td>\n",
       "      <td>2.000000</td>\n",
       "      <td>-7.552500</td>\n",
       "      <td>0.052800</td>\n",
       "      <td>0.048325</td>\n",
       "      <td>0.000000</td>\n",
       "      <td>0.093950</td>\n",
       "      <td>0.434000</td>\n",
       "      <td>99.557250</td>\n",
       "      <td>175845.500000</td>\n",
       "    </tr>\n",
       "    <tr>\n",
       "      <th>50%</th>\n",
       "      <td>25.50000</td>\n",
       "      <td>0.597000</td>\n",
       "      <td>0.746000</td>\n",
       "      <td>6.500000</td>\n",
       "      <td>-5.991500</td>\n",
       "      <td>0.188500</td>\n",
       "      <td>0.070050</td>\n",
       "      <td>0.000000</td>\n",
       "      <td>0.111000</td>\n",
       "      <td>0.560000</td>\n",
       "      <td>116.969000</td>\n",
       "      <td>197853.500000</td>\n",
       "    </tr>\n",
       "    <tr>\n",
       "      <th>75%</th>\n",
       "      <td>37.75000</td>\n",
       "      <td>0.729750</td>\n",
       "      <td>0.794500</td>\n",
       "      <td>8.750000</td>\n",
       "      <td>-4.285500</td>\n",
       "      <td>0.298750</td>\n",
       "      <td>0.155500</td>\n",
       "      <td>0.000020</td>\n",
       "      <td>0.271250</td>\n",
       "      <td>0.726250</td>\n",
       "      <td>132.317000</td>\n",
       "      <td>215064.000000</td>\n",
       "    </tr>\n",
       "    <tr>\n",
       "      <th>max</th>\n",
       "      <td>50.00000</td>\n",
       "      <td>0.855000</td>\n",
       "      <td>0.935000</td>\n",
       "      <td>11.000000</td>\n",
       "      <td>-3.280000</td>\n",
       "      <td>0.934000</td>\n",
       "      <td>0.487000</td>\n",
       "      <td>0.657000</td>\n",
       "      <td>0.792000</td>\n",
       "      <td>0.925000</td>\n",
       "      <td>180.067000</td>\n",
       "      <td>312820.000000</td>\n",
       "    </tr>\n",
       "  </tbody>\n",
       "</table>\n",
       "</div>"
      ],
      "text/plain": [
       "       placement     energy  danceability        key   loudness  acousticness  \\\n",
       "count   50.00000  50.000000     50.000000  50.000000  50.000000     50.000000   \n",
       "mean    25.50000   0.609300      0.716720   5.720000  -6.225900      0.256206   \n",
       "std     14.57738   0.154348      0.124975   3.709007   2.349744      0.265250   \n",
       "min      1.00000   0.225000      0.351000   0.000000 -14.454000      0.001460   \n",
       "25%     13.25000   0.494000      0.672500   2.000000  -7.552500      0.052800   \n",
       "50%     25.50000   0.597000      0.746000   6.500000  -5.991500      0.188500   \n",
       "75%     37.75000   0.729750      0.794500   8.750000  -4.285500      0.298750   \n",
       "max     50.00000   0.855000      0.935000  11.000000  -3.280000      0.934000   \n",
       "\n",
       "       speechiness  instrumentalness   liveness    valence       tempo  \\\n",
       "count    50.000000         50.000000  50.000000  50.000000   50.000000   \n",
       "mean      0.124158          0.015962   0.196552   0.555710  119.690460   \n",
       "std       0.116836          0.094312   0.176610   0.216386   25.414778   \n",
       "min       0.029000          0.000000   0.057400   0.060500   75.801000   \n",
       "25%       0.048325          0.000000   0.093950   0.434000   99.557250   \n",
       "50%       0.070050          0.000000   0.111000   0.560000  116.969000   \n",
       "75%       0.155500          0.000020   0.271250   0.726250  132.317000   \n",
       "max       0.487000          0.657000   0.792000   0.925000  180.067000   \n",
       "\n",
       "         duration_ms  \n",
       "count      50.000000  \n",
       "mean   199955.360000  \n",
       "std     33996.122488  \n",
       "min    140526.000000  \n",
       "25%    175845.500000  \n",
       "50%    197853.500000  \n",
       "75%    215064.000000  \n",
       "max    312820.000000  "
      ]
     },
     "execution_count": 3,
     "metadata": {},
     "output_type": "execute_result"
    }
   ],
   "source": [
    "df_tracks.describe()"
   ]
  },
  {
   "cell_type": "markdown",
   "id": "b4be214b",
   "metadata": {},
   "source": [
    "<p>No extreme values exist among the numeric variables, min and max ranges stay within the defined specifications in the dataset description.</p>"
   ]
  },
  {
   "cell_type": "code",
   "execution_count": 4,
   "id": "2561d4fc",
   "metadata": {},
   "outputs": [
    {
     "name": "stdout",
     "output_type": "stream",
     "text": [
      "There is a total of 50 unique tracks.\n"
     ]
    }
   ],
   "source": [
    "print(f\"There is a total of {df_tracks['track_id'].nunique()} unique tracks.\")"
   ]
  },
  {
   "cell_type": "code",
   "execution_count": 5,
   "id": "d60c7c12",
   "metadata": {},
   "outputs": [
    {
     "data": {
      "text/plain": [
       "placement           0\n",
       "artist              0\n",
       "album               0\n",
       "track_name          0\n",
       "track_id            0\n",
       "energy              0\n",
       "danceability        0\n",
       "key                 0\n",
       "loudness            0\n",
       "acousticness        0\n",
       "speechiness         0\n",
       "instrumentalness    0\n",
       "liveness            0\n",
       "valence             0\n",
       "tempo               0\n",
       "duration_ms         0\n",
       "genre               0\n",
       "dtype: int64"
      ]
     },
     "execution_count": 5,
     "metadata": {},
     "output_type": "execute_result"
    }
   ],
   "source": [
    "df_tracks.isna().sum()"
   ]
  },
  {
   "cell_type": "markdown",
   "id": "6df7fff1",
   "metadata": {},
   "source": [
    "<p>No missing / duplicate tracks and all tracks fall within specified variable ranges! Proceeding to exploratory analysis.</p>"
   ]
  },
  {
   "cell_type": "markdown",
   "id": "32c6cfb9",
   "metadata": {},
   "source": [
    "<h1 id=\"exploratory-analysis\">Exploratory Data Analysis</h1>\n",
    "\n",
    "<h2 id=\"dataset-structure\">Dataset Structure</h2>\n",
    "<p>Familiarize with the dataset.</p>"
   ]
  },
  {
   "cell_type": "markdown",
   "id": "3a80fbf5",
   "metadata": {},
   "source": [
    "<b>QUESTION</b>: How many observations are there in this dataset?"
   ]
  },
  {
   "cell_type": "code",
   "execution_count": 6,
   "id": "67ca54b4",
   "metadata": {},
   "outputs": [
    {
     "name": "stdout",
     "output_type": "stream",
     "text": [
      "The dataset contains 50 observations.\n"
     ]
    }
   ],
   "source": [
    "total_rows, total_cols = df_tracks.shape\n",
    "print(f'The dataset contains {total_rows} observations.')"
   ]
  },
  {
   "cell_type": "markdown",
   "id": "af7c65a8",
   "metadata": {},
   "source": [
    "<hr>\n",
    "<b>QUESTION</b>: How many features does this dataset have?"
   ]
  },
  {
   "cell_type": "code",
   "execution_count": 7,
   "id": "52bb6bc1",
   "metadata": {},
   "outputs": [
    {
     "name": "stdout",
     "output_type": "stream",
     "text": [
      "The dataset has 12 numeric columns, 5 categorical columns.\n"
     ]
    }
   ],
   "source": [
    "numeric_cols = df_tracks.select_dtypes(include=[np.number]).columns\n",
    "categorical_cols = df_tracks.select_dtypes(exclude=[np.number]).columns\n",
    "print(f\"The dataset has {len(numeric_cols)} numeric columns, {len(categorical_cols)} categorical columns.\")"
   ]
  },
  {
   "cell_type": "markdown",
   "id": "63f69db1",
   "metadata": {},
   "source": [
    "<hr>\n",
    "<b>QUESTION</b>: Which of the features are categorical?"
   ]
  },
  {
   "cell_type": "code",
   "execution_count": 8,
   "id": "a724793e",
   "metadata": {},
   "outputs": [
    {
     "name": "stdout",
     "output_type": "stream",
     "text": [
      "Dataset's categorical columns: artist, album, track_name, track_id, genre\n"
     ]
    }
   ],
   "source": [
    "print(f\"Dataset's categorical columns: {', '.join([col for col in categorical_cols])}\")"
   ]
  },
  {
   "cell_type": "markdown",
   "id": "52e40642",
   "metadata": {},
   "source": [
    "<hr>\n",
    "<b>QUESTION</b>: Which of the features are numeric?"
   ]
  },
  {
   "cell_type": "code",
   "execution_count": 9,
   "id": "db1c3b97",
   "metadata": {},
   "outputs": [
    {
     "name": "stdout",
     "output_type": "stream",
     "text": [
      "Dataset's numeric columns: placement, energy, danceability, key, loudness, acousticness, speechiness, instrumentalness, liveness, valence, tempo, duration_ms\n"
     ]
    }
   ],
   "source": [
    "print(f\"Dataset's numeric columns: {', '.join([col for col in numeric_cols])}\")"
   ]
  },
  {
   "cell_type": "markdown",
   "id": "b5acfa4d",
   "metadata": {},
   "source": [
    "<h2 id=\"artists-overview\">Artists' Overview</h2>\n",
    "<p>Explore the artists of the top 50 tracks.</p>"
   ]
  },
  {
   "cell_type": "markdown",
   "id": "8b0752df",
   "metadata": {},
   "source": [
    "<b>QUESTION</b>: Are there any artists that have more than 1 popular track? If yes, which and how many?"
   ]
  },
  {
   "cell_type": "code",
   "execution_count": 10,
   "id": "22e8e13d",
   "metadata": {},
   "outputs": [
    {
     "name": "stdout",
     "output_type": "stream",
     "text": [
      "The following artists have multiple tracks in the top 50:\n",
      "Billie Eilish has 3 tracks\n",
      "Dua Lipa has 3 tracks\n",
      "Travis Scott has 3 tracks\n",
      "Harry Styles has 2 tracks\n",
      "Justin Bieber has 2 tracks\n",
      "Lewis Capaldi has 2 tracks\n",
      "Post Malone has 2 tracks\n"
     ]
    }
   ],
   "source": [
    "artist_tracks = df_tracks.groupby('artist')['track_id'].count()\n",
    "multiple_tracks = artist_tracks[artist_tracks > 1]\n",
    "multiple_tracks = multiple_tracks.sort_values(ascending=False)\n",
    "print('The following artists have multiple tracks in the top 50:')\n",
    "for artist, tracks in multiple_tracks.items():\n",
    "    print(f'{artist.title()} has {tracks} tracks')"
   ]
  },
  {
   "cell_type": "markdown",
   "id": "42dbd127",
   "metadata": {},
   "source": [
    "<b>QUESTION</b>: Who was the most popular artist?\n",
    "<p>The most popular artist can be interpreted differently. For instance, it could be the artist with the number 1 track, although we might get the case of a \"one-hit wonder\". Another approach is to check for consistency - find the artist who has the most songs in the top 50. If multiple exist, sum their songs' placements; The smallest value wins. The analysis below will explore both options.</p>"
   ]
  },
  {
   "cell_type": "markdown",
   "id": "f21fa745",
   "metadata": {},
   "source": [
    "<i>Approach #1</i>: Author of the #1 track."
   ]
  },
  {
   "cell_type": "code",
   "execution_count": 11,
   "id": "dcd5313c",
   "metadata": {},
   "outputs": [
    {
     "name": "stdout",
     "output_type": "stream",
     "text": [
      "The author of the #1 track is The Weeknd\n"
     ]
    }
   ],
   "source": [
    "top_1_artist = df_tracks.loc[df_tracks['placement'] == 1]['artist']\n",
    "print(f\"The author of the #1 track is {top_1_artist[0]}\")"
   ]
  },
  {
   "cell_type": "markdown",
   "id": "b0c81bd9",
   "metadata": {},
   "source": [
    "<i>Approach #2</i>: Artist with most songs in the top 50 & smallest sum of placements"
   ]
  },
  {
   "cell_type": "code",
   "execution_count": 12,
   "id": "7740b3d0",
   "metadata": {},
   "outputs": [
    {
     "name": "stdout",
     "output_type": "stream",
     "text": [
      "The most popular artist is Dua Lipa\n",
      "The artist has 3 tracks in the top 50\n",
      "Their songs have the following placements: [4, 31, 48]\n",
      "Genres: Dance/Electronic, Pop, Pop\n"
     ]
    }
   ],
   "source": [
    "popular_artists = {}\n",
    "artists_max_tracks = list(multiple_tracks[multiple_tracks == multiple_tracks.max()].index)\n",
    "for artist in artists_max_tracks:\n",
    "    # Retrieve songs' placements for artists with most tracks in TOP50\n",
    "    placements = list(df_tracks[df_tracks['artist'] == artist].index)\n",
    "    popular_artists[artist] = placements\n",
    "\n",
    "# Retrieve the most popular artist (sum of placements is the smallest)\n",
    "most_popular_artist = min(popular_artists, key=lambda artist: sum(popular_artists[artist]))\n",
    "track_placements = popular_artists[most_popular_artist] \n",
    "print(f\"The most popular artist is {most_popular_artist}\")\n",
    "print(f\"The artist has {len(popular_artists[most_popular_artist])} tracks in the top 50\")\n",
    "print(f\"Their songs have the following placements: {[place for place in track_placements]}\")\n",
    "print(f\"Genres: {', '.join([g for g in df_tracks.loc[df_tracks['placement'].isin(track_placements)]['genre']])}\")"
   ]
  },
  {
   "cell_type": "markdown",
   "id": "a5109364",
   "metadata": {},
   "source": [
    "<p><b>Dua Lipa</b> is the most popular artist in the second approach. Two of her three songs that made the list are Pop songs.</p>"
   ]
  },
  {
   "cell_type": "markdown",
   "id": "c2adc524",
   "metadata": {},
   "source": [
    "<hr>\n",
    "<b>QUESTION</b>: How many artists in total have their songs in the top 50?"
   ]
  },
  {
   "cell_type": "code",
   "execution_count": 13,
   "id": "c0d67414",
   "metadata": {},
   "outputs": [
    {
     "name": "stdout",
     "output_type": "stream",
     "text": [
      "40 artists are in the top 50.\n"
     ]
    }
   ],
   "source": [
    "total_artists = df_tracks['artist'].nunique()\n",
    "print(f\"{total_artists} artists are in the top 50.\")"
   ]
  },
  {
   "cell_type": "markdown",
   "id": "30668519",
   "metadata": {},
   "source": [
    "<p>Overall, it is a very diverse population in the top 50. No specific artist dominated the charts; The most songs one artist had was 3. The next sub-section will explore the albums.</p>"
   ]
  },
  {
   "cell_type": "markdown",
   "id": "bfbc5e29",
   "metadata": {},
   "source": [
    "<h2 id=\"albums-overview\">Albums' Overview</h2>\n",
    "<p>Explore the featured albums within the top 50 tracks.</p>"
   ]
  },
  {
   "cell_type": "markdown",
   "id": "f06b2326",
   "metadata": {},
   "source": [
    "<hr>\n",
    "<b>QUESTION</b>: Are there any albums that have more than 1 popular track? If yes, which and how many?"
   ]
  },
  {
   "cell_type": "code",
   "execution_count": 14,
   "id": "638e7fc3",
   "metadata": {},
   "outputs": [
    {
     "name": "stdout",
     "output_type": "stream",
     "text": [
      "4 albums have more than 1 song in the top 50.\n",
      "Future Nostalgia, Fine Line, Changes, Hollywood's Bleeding\n"
     ]
    }
   ],
   "source": [
    "# Artist is included to prevent cases where two separate artists may have an album with the same name.\n",
    "total_albums = df_tracks.groupby(['artist','album'])['track_id'].count()\n",
    "popular_albums = total_albums[total_albums > 1]\n",
    "print(f\"{len(popular_albums)} albums have more than 1 song in the top 50.\")\n",
    "print(', '.join([index for index in popular_albums.index.get_level_values(1)]))"
   ]
  },
  {
   "cell_type": "markdown",
   "id": "e659e588",
   "metadata": {},
   "source": [
    "<hr>\n",
    "<b>QUESTION</b>: How many albums in total have their songs in the top 50?"
   ]
  },
  {
   "cell_type": "code",
   "execution_count": 15,
   "id": "046b83ff",
   "metadata": {},
   "outputs": [
    {
     "name": "stdout",
     "output_type": "stream",
     "text": [
      "45 albums are in the top 50.\n"
     ]
    }
   ],
   "source": [
    "print(f\"{len(total_albums)} albums are in the top 50.\")"
   ]
  },
  {
   "cell_type": "markdown",
   "id": "468c3021",
   "metadata": {},
   "source": [
    "<p>A very similar and expected outcome with regards to albums - the list is especially diverse, and only 4 albums acummulated more than one song in the top 50 charts. Drawing out the elements of a hit song by analyzing an artist or an album might not be the best approach in this case. Proceeding to the numerical variables analysis.</p>"
   ]
  },
  {
   "cell_type": "markdown",
   "id": "96778ad7",
   "metadata": {},
   "source": [
    "<h2 id=\"danceability\">Danceability</h2>\n",
    "<p>Draw insights based on the danceability score.</p>"
   ]
  },
  {
   "cell_type": "markdown",
   "id": "739a7371",
   "metadata": {},
   "source": [
    "<b>QUESTION</b>: Which tracks have a danceability score above 0.7?"
   ]
  },
  {
   "cell_type": "code",
   "execution_count": 16,
   "id": "ae3785eb",
   "metadata": {},
   "outputs": [
    {
     "name": "stdout",
     "output_type": "stream",
     "text": [
      "Top 10 tracks by high danceability score (sorted by descending order):\n",
      "WAP (feat. Megan Thee Stallion)\n",
      "The Box\n",
      "Ride It\n",
      "Sunday Best\n",
      "Supalonely (feat. Gus Dapperton)\n",
      "goosebumps\n",
      "SICKO MODE\n",
      "Toosie Slide\n",
      "Dance Monkey\n",
      "Godzilla (feat. Juice WRLD)\n",
      "\n",
      "A total of 10 tracks have a high danceability score.\n"
     ]
    }
   ],
   "source": [
    "high_danceability = df_tracks[df_tracks['danceability'] > 0.7].sort_values(by='danceability', ascending=False).head(10)\n",
    "print(\"Top 10 tracks by high danceability score (sorted by descending order):\")\n",
    "print('\\n'.join([track for track in high_danceability['track_name']]))\n",
    "print(f\"\\nA total of {len(high_danceability)} tracks have a high danceability score.\")"
   ]
  },
  {
   "cell_type": "markdown",
   "id": "97f96623",
   "metadata": {},
   "source": [
    "<hr>\n",
    "<b>QUESTION</b>: Which tracks have a danceability score below 0.4?"
   ]
  },
  {
   "cell_type": "code",
   "execution_count": 17,
   "id": "ce1ccb51",
   "metadata": {},
   "outputs": [
    {
     "name": "stdout",
     "output_type": "stream",
     "text": [
      "The following tracks have a low danceability score (sorted by ascending order):\n",
      "lovely (with Khalid)\n"
     ]
    }
   ],
   "source": [
    "low_danceability = df_tracks[df_tracks['danceability'] < 0.4].sort_values(by='danceability', ascending=True)\n",
    "print(\"The following tracks have a low danceability score (sorted by ascending order):\")\n",
    "print('\\n'.join([track for track in low_danceability['track_name']]))"
   ]
  },
  {
   "cell_type": "markdown",
   "id": "e5dea65f",
   "metadata": {},
   "source": [
    "A high danceability score seems to be a solid indicator of a hit song - 32 out of 50 songs had a high danceability score! Let's proceed to loudness."
   ]
  },
  {
   "cell_type": "markdown",
   "id": "34e40fed",
   "metadata": {},
   "source": [
    "<h2 id=\"loudness\">Loudness</h2>\n",
    "<p>Explore the effect of loudness among the top songs. Larger negative decibel (dB) values indicate that the track is quieter.</p>"
   ]
  },
  {
   "cell_type": "markdown",
   "id": "813572e1",
   "metadata": {},
   "source": [
    "<b>QUESTION: </b>Which tracks have their loudness above -5?"
   ]
  },
  {
   "cell_type": "code",
   "execution_count": 18,
   "id": "29d64e78",
   "metadata": {},
   "outputs": [
    {
     "name": "stdout",
     "output_type": "stream",
     "text": [
      "The following tracks have a loudness rating above -5dB (sorted by descending order):\n",
      "Tusa\n",
      "goosebumps\n",
      "Break My Heart\n",
      "Hawái\n",
      "Circles\n",
      "Mood (feat. iann dior)\n",
      "Adore You\n",
      "SICKO MODE\n",
      "Physical\n",
      "Rain On Me (with Ariana Grande)\n",
      "Safaera\n",
      "Watermelon Sugar\n",
      "Ride It\n",
      "Sunflower - Spider-Man: Into the Spider-Verse\n",
      "Dynamite\n",
      "Don't Start Now\n",
      "Say So\n",
      "Supalonely (feat. Gus Dapperton)\n",
      "Before You Go\n",
      "\n",
      "A total of 19 tracks are relatively loud.\n"
     ]
    }
   ],
   "source": [
    "loud_tracks = df_tracks[df_tracks['loudness'] > -5].sort_values(by='loudness', ascending=False)\n",
    "print(\"The following tracks have a loudness rating above -5dB (sorted by descending order):\")\n",
    "print('\\n'.join([track for track in loud_tracks['track_name']]))\n",
    "print(f\"\\nA total of {len(loud_tracks)} tracks are relatively loud.\")"
   ]
  },
  {
   "cell_type": "markdown",
   "id": "667292a8",
   "metadata": {},
   "source": [
    "<hr>\n",
    "<b>QUESTION</b>: Which tracks have their loudness below -8?"
   ]
  },
  {
   "cell_type": "code",
   "execution_count": 19,
   "id": "6430cc7c",
   "metadata": {},
   "outputs": [
    {
     "name": "stdout",
     "output_type": "stream",
     "text": [
      "The following tracks have a loudness rating below -8dB (sorted by ascending order):\n",
      "everything i wanted\n",
      "bad guy\n",
      "lovely (with Khalid)\n",
      "If the World Was Ending - feat. Julia Michaels\n",
      "Toosie Slide\n",
      "death bed (coffee for your head)\n",
      "HIGHEST IN THE ROOM\n",
      "Falling\n",
      "Savage Love (Laxed - Siren Beat)\n"
     ]
    }
   ],
   "source": [
    "quiet_tracks = df_tracks[df_tracks['loudness'] < -8].sort_values(by='loudness', ascending=True)\n",
    "print(\"The following tracks have a loudness rating below -8dB (sorted by ascending order):\")\n",
    "print('\\n'.join([track for track in quiet_tracks['track_name']]))"
   ]
  },
  {
   "cell_type": "markdown",
   "id": "202ca35a",
   "metadata": {},
   "source": [
    "<p>It seems that louder does not necessarily mean better, at least in mainstream media. Less than half of the tracks had a relatively loud sound rating. Let's quickly check the track duration stats.</p>"
   ]
  },
  {
   "cell_type": "markdown",
   "id": "10fd23d2",
   "metadata": {},
   "source": [
    "<h2 id=\"length\">Track Length</h2>\n",
    "<p>A quick check of the longest and shortest tracks.</p>"
   ]
  },
  {
   "cell_type": "markdown",
   "id": "f6d1bbf9",
   "metadata": {},
   "source": [
    "<b>QUESTION</b>: Which track is the longest?"
   ]
  },
  {
   "cell_type": "code",
   "execution_count": 20,
   "id": "eb7d359f",
   "metadata": {},
   "outputs": [
    {
     "name": "stdout",
     "output_type": "stream",
     "text": [
      "The longest track is SICKO MODE at 5.21 minutes\n"
     ]
    }
   ],
   "source": [
    "longest_track = df_tracks.loc[df_tracks['duration_ms'].idxmax()]\n",
    "longest_track[['track_name', 'duration_ms']]\n",
    "longest_track_duration = round(longest_track['duration_ms'] / 60000, 2)\n",
    "print(f\"The longest track is {longest_track['track_name']} at {longest_track_duration} minutes\")"
   ]
  },
  {
   "cell_type": "markdown",
   "id": "6ff9f4f6",
   "metadata": {},
   "source": [
    "<hr>\n",
    "<b>QUESTION</b>: Which track is the shortest?"
   ]
  },
  {
   "cell_type": "code",
   "execution_count": 21,
   "id": "37adb4f6",
   "metadata": {},
   "outputs": [
    {
     "name": "stdout",
     "output_type": "stream",
     "text": [
      "The shortest track is Mood (feat. iann dior) at 2.34 minutes\n"
     ]
    }
   ],
   "source": [
    "shortest_track = df_tracks.loc[df_tracks['duration_ms'].idxmin()]\n",
    "shortest_track[['track_name', 'duration_ms']]\n",
    "shortest_track_duration = round(shortest_track['duration_ms'] / 60000, 2)\n",
    "print(f\"The shortest track is {shortest_track['track_name']} at {shortest_track_duration} minutes\")"
   ]
  },
  {
   "cell_type": "markdown",
   "id": "752f0dc2",
   "metadata": {},
   "source": [
    "<h2 id=\"genre-analysis\">Genre Analysis</h2>\n",
    "<p>Finish basic data analytics with an overview of genre popularity.</p>"
   ]
  },
  {
   "cell_type": "markdown",
   "id": "997a5cd0",
   "metadata": {},
   "source": [
    "<b>QUESTION</b>: Which genre is the most popular?"
   ]
  },
  {
   "cell_type": "code",
   "execution_count": 22,
   "id": "245538d1",
   "metadata": {},
   "outputs": [
    {
     "name": "stdout",
     "output_type": "stream",
     "text": [
      "The most popular genre(s):\n",
      "Pop with 14 tracks\n"
     ]
    }
   ],
   "source": [
    "genres_count = df_tracks['genre'].value_counts()\n",
    "max_count = genres_count.max()\n",
    "most_popular_genres = genres_count[genres_count == max_count]\n",
    "\n",
    "# Loop through the list in case there is more than one genre with the same tracks' count.\n",
    "print(\"The most popular genre(s):\")\n",
    "for genre, count in most_popular_genres.items():\n",
    "    print(f\"{genre} with {count} tracks\")"
   ]
  },
  {
   "cell_type": "markdown",
   "id": "3670683a",
   "metadata": {},
   "source": [
    "<hr>\n",
    "<b>QUESTION</b>: Which genres have just one song on the top 50?"
   ]
  },
  {
   "cell_type": "code",
   "execution_count": 23,
   "id": "29411a5c",
   "metadata": {},
   "outputs": [
    {
     "name": "stdout",
     "output_type": "stream",
     "text": [
      "Genres with only one song in the top 50:\n",
      "R&B/Hip-Hop alternative\n",
      "Nu-disco\n",
      "Pop/Soft Rock\n",
      "Pop rap\n",
      "Hip-Hop/Trap\n",
      "Dance-pop/Disco\n",
      "Disco-pop\n",
      "Dreampop/Hip-Hop/R&B\n",
      "Alternative/reggaeton/experimental\n",
      "Chamber pop\n"
     ]
    }
   ],
   "source": [
    "one_track_genres = genres_count[genres_count == 1]\n",
    "print(\"Genres with only one song in the top 50:\")\n",
    "print('\\n'.join([genre for genre, _ in one_track_genres.items()]))"
   ]
  },
  {
   "cell_type": "markdown",
   "id": "8408fae0",
   "metadata": {},
   "source": [
    "<hr>\n",
    "<b>QUESTION</b>: How many genres in total are represented in the top 50?"
   ]
  },
  {
   "cell_type": "code",
   "execution_count": 24,
   "id": "ca991205",
   "metadata": {},
   "outputs": [
    {
     "name": "stdout",
     "output_type": "stream",
     "text": [
      "16 genres are in the top 50\n"
     ]
    }
   ],
   "source": [
    "print(f\"{len(genres_count)} genres are in the top 50\")"
   ]
  },
  {
   "cell_type": "markdown",
   "id": "2ccb8bdb",
   "metadata": {},
   "source": [
    "<b>ADDITIONAL ANALYSIS</b>: How many tracks' genres have 'pop' in them?"
   ]
  },
  {
   "cell_type": "code",
   "execution_count": 25,
   "id": "428fdd60",
   "metadata": {},
   "outputs": [
    {
     "name": "stdout",
     "output_type": "stream",
     "text": [
      "22 tracks have the substring 'pop' in them\n"
     ]
    }
   ],
   "source": [
    "pop_tracks = df_tracks.loc[df_tracks['genre'].str.lower().str.contains('pop')]\n",
    "print(f\"{len(pop_tracks)} tracks have the substring 'pop' in them\")"
   ]
  },
  {
   "cell_type": "markdown",
   "id": "e3fa87f0",
   "metadata": {},
   "source": [
    "To no surprise, <b>Pop</b>, which encompasses the idea of <i>\"popular\"</i>, is the most popular genre in the top 50, with 14 tracks identified in this genre and a total of 22 tracks having 'pop' in their genre."
   ]
  },
  {
   "cell_type": "markdown",
   "id": "d85404ec",
   "metadata": {},
   "source": [
    "<h1 id=\"statistical-analysis\">Statistical Analysis</h1>\n",
    "<p>Let's proceed into a more complex and insightful form of analysis using correlation statistics. A hit song is most likely a gestalt - a combination of many elements that make up a greater whole. Let's try to identify these elements.</p>"
   ]
  },
  {
   "cell_type": "markdown",
   "id": "d0d2800e",
   "metadata": {},
   "source": [
    "<b>QUESTION</b>: Which features are strongly positively correlated?"
   ]
  },
  {
   "cell_type": "code",
   "execution_count": 26,
   "id": "89f0b326",
   "metadata": {},
   "outputs": [
    {
     "data": {
      "text/html": [
       "<div>\n",
       "<style scoped>\n",
       "    .dataframe tbody tr th:only-of-type {\n",
       "        vertical-align: middle;\n",
       "    }\n",
       "\n",
       "    .dataframe tbody tr th {\n",
       "        vertical-align: top;\n",
       "    }\n",
       "\n",
       "    .dataframe thead th {\n",
       "        text-align: right;\n",
       "    }\n",
       "</style>\n",
       "<table border=\"1\" class=\"dataframe\">\n",
       "  <thead>\n",
       "    <tr style=\"text-align: right;\">\n",
       "      <th></th>\n",
       "      <th>placement</th>\n",
       "      <th>energy</th>\n",
       "      <th>danceability</th>\n",
       "      <th>key</th>\n",
       "      <th>loudness</th>\n",
       "      <th>acousticness</th>\n",
       "      <th>speechiness</th>\n",
       "      <th>instrumentalness</th>\n",
       "      <th>liveness</th>\n",
       "      <th>valence</th>\n",
       "      <th>tempo</th>\n",
       "      <th>duration_ms</th>\n",
       "    </tr>\n",
       "  </thead>\n",
       "  <tbody>\n",
       "    <tr>\n",
       "      <th>placement</th>\n",
       "      <td>NaN</td>\n",
       "      <td>0.030381</td>\n",
       "      <td>-0.176321</td>\n",
       "      <td>-0.052844</td>\n",
       "      <td>0.034935</td>\n",
       "      <td>-0.036557</td>\n",
       "      <td>0.095790</td>\n",
       "      <td>-0.003126</td>\n",
       "      <td>-0.063216</td>\n",
       "      <td>-0.034159</td>\n",
       "      <td>0.081289</td>\n",
       "      <td>0.309563</td>\n",
       "    </tr>\n",
       "    <tr>\n",
       "      <th>energy</th>\n",
       "      <td>0.030381</td>\n",
       "      <td>NaN</td>\n",
       "      <td>0.152552</td>\n",
       "      <td>0.062428</td>\n",
       "      <td>0.791640</td>\n",
       "      <td>-0.682479</td>\n",
       "      <td>0.074267</td>\n",
       "      <td>-0.385515</td>\n",
       "      <td>0.069487</td>\n",
       "      <td>0.393453</td>\n",
       "      <td>0.075191</td>\n",
       "      <td>0.081971</td>\n",
       "    </tr>\n",
       "    <tr>\n",
       "      <th>danceability</th>\n",
       "      <td>-0.176321</td>\n",
       "      <td>0.152552</td>\n",
       "      <td>NaN</td>\n",
       "      <td>0.285036</td>\n",
       "      <td>0.167147</td>\n",
       "      <td>-0.359135</td>\n",
       "      <td>0.226148</td>\n",
       "      <td>-0.017706</td>\n",
       "      <td>-0.006648</td>\n",
       "      <td>0.479953</td>\n",
       "      <td>0.168956</td>\n",
       "      <td>-0.033763</td>\n",
       "    </tr>\n",
       "    <tr>\n",
       "      <th>key</th>\n",
       "      <td>-0.052844</td>\n",
       "      <td>0.062428</td>\n",
       "      <td>0.285036</td>\n",
       "      <td>NaN</td>\n",
       "      <td>-0.009178</td>\n",
       "      <td>-0.113394</td>\n",
       "      <td>-0.094965</td>\n",
       "      <td>0.020802</td>\n",
       "      <td>0.278672</td>\n",
       "      <td>0.120007</td>\n",
       "      <td>0.080475</td>\n",
       "      <td>-0.003345</td>\n",
       "    </tr>\n",
       "    <tr>\n",
       "      <th>loudness</th>\n",
       "      <td>0.034935</td>\n",
       "      <td>0.791640</td>\n",
       "      <td>0.167147</td>\n",
       "      <td>-0.009178</td>\n",
       "      <td>NaN</td>\n",
       "      <td>-0.498695</td>\n",
       "      <td>-0.021693</td>\n",
       "      <td>-0.553735</td>\n",
       "      <td>-0.069939</td>\n",
       "      <td>0.406772</td>\n",
       "      <td>0.102097</td>\n",
       "      <td>0.064130</td>\n",
       "    </tr>\n",
       "    <tr>\n",
       "      <th>acousticness</th>\n",
       "      <td>-0.036557</td>\n",
       "      <td>-0.682479</td>\n",
       "      <td>-0.359135</td>\n",
       "      <td>-0.113394</td>\n",
       "      <td>-0.498695</td>\n",
       "      <td>NaN</td>\n",
       "      <td>-0.135392</td>\n",
       "      <td>0.352184</td>\n",
       "      <td>-0.128384</td>\n",
       "      <td>-0.243192</td>\n",
       "      <td>-0.241119</td>\n",
       "      <td>-0.010988</td>\n",
       "    </tr>\n",
       "    <tr>\n",
       "      <th>speechiness</th>\n",
       "      <td>0.095790</td>\n",
       "      <td>0.074267</td>\n",
       "      <td>0.226148</td>\n",
       "      <td>-0.094965</td>\n",
       "      <td>-0.021693</td>\n",
       "      <td>-0.135392</td>\n",
       "      <td>NaN</td>\n",
       "      <td>0.028948</td>\n",
       "      <td>-0.142957</td>\n",
       "      <td>0.053867</td>\n",
       "      <td>0.215504</td>\n",
       "      <td>0.366976</td>\n",
       "    </tr>\n",
       "    <tr>\n",
       "      <th>instrumentalness</th>\n",
       "      <td>-0.003126</td>\n",
       "      <td>-0.385515</td>\n",
       "      <td>-0.017706</td>\n",
       "      <td>0.020802</td>\n",
       "      <td>-0.553735</td>\n",
       "      <td>0.352184</td>\n",
       "      <td>0.028948</td>\n",
       "      <td>NaN</td>\n",
       "      <td>-0.087034</td>\n",
       "      <td>-0.203283</td>\n",
       "      <td>0.018853</td>\n",
       "      <td>0.184709</td>\n",
       "    </tr>\n",
       "    <tr>\n",
       "      <th>liveness</th>\n",
       "      <td>-0.063216</td>\n",
       "      <td>0.069487</td>\n",
       "      <td>-0.006648</td>\n",
       "      <td>0.278672</td>\n",
       "      <td>-0.069939</td>\n",
       "      <td>-0.128384</td>\n",
       "      <td>-0.142957</td>\n",
       "      <td>-0.087034</td>\n",
       "      <td>NaN</td>\n",
       "      <td>-0.033366</td>\n",
       "      <td>0.025457</td>\n",
       "      <td>-0.090188</td>\n",
       "    </tr>\n",
       "    <tr>\n",
       "      <th>valence</th>\n",
       "      <td>-0.034159</td>\n",
       "      <td>0.393453</td>\n",
       "      <td>0.479953</td>\n",
       "      <td>0.120007</td>\n",
       "      <td>0.406772</td>\n",
       "      <td>-0.243192</td>\n",
       "      <td>0.053867</td>\n",
       "      <td>-0.203283</td>\n",
       "      <td>-0.033366</td>\n",
       "      <td>NaN</td>\n",
       "      <td>0.045089</td>\n",
       "      <td>-0.039794</td>\n",
       "    </tr>\n",
       "    <tr>\n",
       "      <th>tempo</th>\n",
       "      <td>0.081289</td>\n",
       "      <td>0.075191</td>\n",
       "      <td>0.168956</td>\n",
       "      <td>0.080475</td>\n",
       "      <td>0.102097</td>\n",
       "      <td>-0.241119</td>\n",
       "      <td>0.215504</td>\n",
       "      <td>0.018853</td>\n",
       "      <td>0.025457</td>\n",
       "      <td>0.045089</td>\n",
       "      <td>NaN</td>\n",
       "      <td>0.130328</td>\n",
       "    </tr>\n",
       "    <tr>\n",
       "      <th>duration_ms</th>\n",
       "      <td>0.309563</td>\n",
       "      <td>0.081971</td>\n",
       "      <td>-0.033763</td>\n",
       "      <td>-0.003345</td>\n",
       "      <td>0.064130</td>\n",
       "      <td>-0.010988</td>\n",
       "      <td>0.366976</td>\n",
       "      <td>0.184709</td>\n",
       "      <td>-0.090188</td>\n",
       "      <td>-0.039794</td>\n",
       "      <td>0.130328</td>\n",
       "      <td>NaN</td>\n",
       "    </tr>\n",
       "  </tbody>\n",
       "</table>\n",
       "</div>"
      ],
      "text/plain": [
       "                  placement    energy  danceability       key  loudness  \\\n",
       "placement               NaN  0.030381     -0.176321 -0.052844  0.034935   \n",
       "energy             0.030381       NaN      0.152552  0.062428  0.791640   \n",
       "danceability      -0.176321  0.152552           NaN  0.285036  0.167147   \n",
       "key               -0.052844  0.062428      0.285036       NaN -0.009178   \n",
       "loudness           0.034935  0.791640      0.167147 -0.009178       NaN   \n",
       "acousticness      -0.036557 -0.682479     -0.359135 -0.113394 -0.498695   \n",
       "speechiness        0.095790  0.074267      0.226148 -0.094965 -0.021693   \n",
       "instrumentalness  -0.003126 -0.385515     -0.017706  0.020802 -0.553735   \n",
       "liveness          -0.063216  0.069487     -0.006648  0.278672 -0.069939   \n",
       "valence           -0.034159  0.393453      0.479953  0.120007  0.406772   \n",
       "tempo              0.081289  0.075191      0.168956  0.080475  0.102097   \n",
       "duration_ms        0.309563  0.081971     -0.033763 -0.003345  0.064130   \n",
       "\n",
       "                  acousticness  speechiness  instrumentalness  liveness  \\\n",
       "placement            -0.036557     0.095790         -0.003126 -0.063216   \n",
       "energy               -0.682479     0.074267         -0.385515  0.069487   \n",
       "danceability         -0.359135     0.226148         -0.017706 -0.006648   \n",
       "key                  -0.113394    -0.094965          0.020802  0.278672   \n",
       "loudness             -0.498695    -0.021693         -0.553735 -0.069939   \n",
       "acousticness               NaN    -0.135392          0.352184 -0.128384   \n",
       "speechiness          -0.135392          NaN          0.028948 -0.142957   \n",
       "instrumentalness      0.352184     0.028948               NaN -0.087034   \n",
       "liveness             -0.128384    -0.142957         -0.087034       NaN   \n",
       "valence              -0.243192     0.053867         -0.203283 -0.033366   \n",
       "tempo                -0.241119     0.215504          0.018853  0.025457   \n",
       "duration_ms          -0.010988     0.366976          0.184709 -0.090188   \n",
       "\n",
       "                   valence     tempo  duration_ms  \n",
       "placement        -0.034159  0.081289     0.309563  \n",
       "energy            0.393453  0.075191     0.081971  \n",
       "danceability      0.479953  0.168956    -0.033763  \n",
       "key               0.120007  0.080475    -0.003345  \n",
       "loudness          0.406772  0.102097     0.064130  \n",
       "acousticness     -0.243192 -0.241119    -0.010988  \n",
       "speechiness       0.053867  0.215504     0.366976  \n",
       "instrumentalness -0.203283  0.018853     0.184709  \n",
       "liveness         -0.033366  0.025457    -0.090188  \n",
       "valence                NaN  0.045089    -0.039794  \n",
       "tempo             0.045089       NaN     0.130328  \n",
       "duration_ms      -0.039794  0.130328          NaN  "
      ]
     },
     "execution_count": 26,
     "metadata": {},
     "output_type": "execute_result"
    }
   ],
   "source": [
    "# Create the correlation Matrix\n",
    "corr_matrix = df_tracks[numeric_cols].corr()\n",
    "np.fill_diagonal(corr_matrix.values, np.nan)\n",
    "corr_matrix"
   ]
  },
  {
   "cell_type": "code",
   "execution_count": 27,
   "id": "70d70389",
   "metadata": {},
   "outputs": [
    {
     "name": "stdout",
     "output_type": "stream",
     "text": [
      "energy is strongly positively correlated to loudness at value 0.79\n"
     ]
    }
   ],
   "source": [
    "strong_corr_threshold = 0.6\n",
    "strong_pos_corr = corr_matrix[corr_matrix >= strong_corr_threshold]\n",
    "strong_pos_corr = strong_pos_corr.unstack().sort_values(ascending=False).drop_duplicates().dropna()\n",
    "for (corr_1, corr_2), corr_value in strong_pos_corr.items():\n",
    "    print(f\"{corr_1} is strongly positively correlated to {corr_2} at value {round(corr_value, 2)}\")"
   ]
  },
  {
   "cell_type": "markdown",
   "id": "779cb9e0",
   "metadata": {},
   "source": [
    "<p>Unfortunaly, `placement` did not have any strong correlations to other variables. An interesting, maybe obvious, positive correlation is between energy and loudness. Based on our previous observations, a loud song might not make the top of the top, but it might certainly raise the energy of the song and be a good contender in a dancefloor list.</p>"
   ]
  },
  {
   "cell_type": "markdown",
   "id": "ccc4b951",
   "metadata": {},
   "source": [
    "<hr>\n",
    "<b>QUESTION</b>: Which features are strongly negatively correlated?"
   ]
  },
  {
   "cell_type": "code",
   "execution_count": 28,
   "id": "9bfeb829",
   "metadata": {},
   "outputs": [
    {
     "name": "stdout",
     "output_type": "stream",
     "text": [
      "energy is strongly negatively correlated to acousticness at value -0.68\n"
     ]
    }
   ],
   "source": [
    "strong_neg_corr = corr_matrix[corr_matrix <= strong_corr_threshold * -1]\n",
    "strong_neg_corr = strong_neg_corr.unstack().sort_values(ascending=False).drop_duplicates().dropna()\n",
    "for (corr_1, corr_2), corr_value in strong_neg_corr.items():\n",
    "    print(f\"{corr_1} is strongly negatively correlated to {corr_2} at value {round(corr_value, 2)}\")"
   ]
  },
  {
   "cell_type": "markdown",
   "id": "f112d000",
   "metadata": {},
   "source": [
    "<p>An expected result; Acoustic music is more relaxing by nature and is for appreciation, rather than the dancefloor or mosh pits.</p>"
   ]
  },
  {
   "cell_type": "markdown",
   "id": "a6207081",
   "metadata": {},
   "source": [
    "<hr>\n",
    "<b>QUESTION</b>: Which features are not correlated?"
   ]
  },
  {
   "cell_type": "code",
   "execution_count": 29,
   "id": "deebe570",
   "metadata": {},
   "outputs": [
    {
     "name": "stdout",
     "output_type": "stream",
     "text": [
      "instrumentalness is not correlated to speechiness at value 0.03\n",
      "tempo is not correlated to liveness at value 0.03\n",
      "key is not correlated to instrumentalness at value 0.02\n",
      "tempo is not correlated to instrumentalness at value 0.02\n",
      "placement is not correlated to instrumentalness at value -0.0\n",
      "duration_ms is not correlated to key at value -0.0\n",
      "danceability is not correlated to liveness at value -0.01\n",
      "loudness is not correlated to key at value -0.01\n",
      "duration_ms is not correlated to acousticness at value -0.01\n",
      "danceability is not correlated to instrumentalness at value -0.02\n",
      "loudness is not correlated to speechiness at value -0.02\n"
     ]
    }
   ],
   "source": [
    "weak_corr_threshold = 0.03\n",
    "weak_corr = corr_matrix[(corr_matrix <= weak_corr_threshold) & (corr_matrix >= weak_corr_threshold * -1)]\n",
    "weak_corr = weak_corr.unstack().sort_values(ascending=False).drop_duplicates().dropna()\n",
    "for (corr_1, corr_2), corr_value in weak_corr.items():\n",
    "    print(f\"{corr_1} is not correlated to {corr_2} at value {round(corr_value, 2)}\")"
   ]
  },
  {
   "cell_type": "markdown",
   "id": "a924e182",
   "metadata": {},
   "source": [
    "<p>A lot of non-correlated value pairs. An interesting find is that `placement` is not correlated to `instrumentalness` at all. This gives a hint that instrumental complexity might not be necessary to produce a hit song. Well-known hits like <i>Bohemian Rhapsody</i> or <i>Billie Jean</i> have been covered a cappella by many with great success!</p>"
   ]
  },
  {
   "cell_type": "markdown",
   "id": "ee1b5821",
   "metadata": {},
   "source": [
    "<h2 id=\"genre-comparison\">Genres' Comparison</h2>\n",
    "<p>For a selected list of genres, compare a specific numeric variable.</p>"
   ]
  },
  {
   "cell_type": "markdown",
   "id": "d3f78e98",
   "metadata": {},
   "source": [
    "<b>QUESTION</b>: How does the danceability score compare between Pop, Hip-Hop/Rap, Dance/Electronic, and Alternative/Indie genres?"
   ]
  },
  {
   "cell_type": "code",
   "execution_count": 30,
   "id": "635e11f3",
   "metadata": {},
   "outputs": [],
   "source": [
    "def compare_genres(selected_genres: List, variable: str, df: pd.DataFrame, sort_ascending: bool=False) -> None:\n",
    "    \"\"\"Given a list of genres and a variable name, return the filtered DataFrame by score means.\"\"\"\n",
    "    genre_comparison = df.groupby('genre')[variable].mean()\n",
    "    genre_comparison = genre_comparison[selected_genres].sort_values(ascending=sort_ascending)\n",
    "    print(f\"Selected genres by {variable} score:\")\n",
    "    for genre, score in genre_comparison.items():\n",
    "        print(f\"{genre.title()} with a score of {score:.2f}\")"
   ]
  },
  {
   "cell_type": "code",
   "execution_count": 31,
   "id": "829d72d0",
   "metadata": {},
   "outputs": [
    {
     "name": "stdout",
     "output_type": "stream",
     "text": [
      "Selected genres by danceability score:\n",
      "Hip-Hop/Rap with a score of 0.77\n",
      "Dance/Electronic with a score of 0.76\n",
      "Pop with a score of 0.68\n",
      "Alternative/Indie with a score of 0.66\n"
     ]
    }
   ],
   "source": [
    "selected_genres = ['Pop', 'Hip-Hop/Rap', 'Dance/Electronic', 'Alternative/Indie']\n",
    "compare_genres(selected_genres, 'danceability', df_tracks)"
   ]
  },
  {
   "cell_type": "markdown",
   "id": "88ebcbef",
   "metadata": {},
   "source": [
    "<b>ANSWER</b>: Hip-Hop/Rap is the most danceable genre from the list, while Alternative/Indie is the least danceable of the few."
   ]
  },
  {
   "cell_type": "markdown",
   "id": "abe5d612",
   "metadata": {},
   "source": [
    "<hr>\n",
    "<b>QUESTION</b>: How does the loudness score compare between Pop, Hip-Hop/Rap, Dance/Electronic, and Alternative/Indie genres?"
   ]
  },
  {
   "cell_type": "code",
   "execution_count": 32,
   "id": "e485a442",
   "metadata": {},
   "outputs": [
    {
     "name": "stdout",
     "output_type": "stream",
     "text": [
      "Selected genres by loudness score:\n",
      "Dance/Electronic with a score of -5.34\n",
      "Alternative/Indie with a score of -5.42\n",
      "Pop with a score of -6.46\n",
      "Hip-Hop/Rap with a score of -6.92\n"
     ]
    }
   ],
   "source": [
    "selected_genres = ['Pop', 'Hip-Hop/Rap', 'Dance/Electronic', 'Alternative/Indie']\n",
    "compare_genres(selected_genres, 'loudness', df_tracks)"
   ]
  },
  {
   "cell_type": "markdown",
   "id": "bd495bff",
   "metadata": {},
   "source": [
    "<b>ANSWER</b>: Dance/Electronic is the loudest, while Hip-Hop/Rap is the least loud of the few."
   ]
  },
  {
   "cell_type": "markdown",
   "id": "f9c3cd19",
   "metadata": {},
   "source": [
    "<hr>\n",
    "<b>QUESTION</b>: How does the acousticness score compare between Pop, Hip-Hop/Rap, Dance/Electronic, and Alternative/Indie genres?"
   ]
  },
  {
   "cell_type": "code",
   "execution_count": 33,
   "id": "dea30fb3",
   "metadata": {},
   "outputs": [
    {
     "name": "stdout",
     "output_type": "stream",
     "text": [
      "Selected genres by acousticness score:\n",
      "Alternative/Indie with a score of 0.58\n",
      "Pop with a score of 0.32\n",
      "Hip-Hop/Rap with a score of 0.19\n",
      "Dance/Electronic with a score of 0.10\n"
     ]
    }
   ],
   "source": [
    "selected_genres = ['Pop', 'Hip-Hop/Rap', 'Dance/Electronic', 'Alternative/Indie']\n",
    "compare_genres(selected_genres, 'acousticness', df_tracks)"
   ]
  },
  {
   "cell_type": "markdown",
   "id": "fc6e3840",
   "metadata": {},
   "source": [
    "<b>ANSWER</b>: Alternative/Indie is the most acoustic, while Dance/Electronic is the least acoustic of the few."
   ]
  },
  {
   "cell_type": "markdown",
   "id": "e6f33e31",
   "metadata": {},
   "source": [
    "<h1 id=\"conclusion\">Conclusion</h1>\n",
    "<p>The compiled list of top tracks of 2020 has given a great overview of what the Spotify userbase likes to stream. The analysis has given some hints on what a hit song could include:</p>\n",
    "<ol>\n",
    "    <li>Consider the elements of the <b>Pop</b> genre, as its formula is still popular among listeners;</li>\n",
    "    <li>Make sure the song is <b>danceable</b>; A high rating is prevalent in the charts;</li>\n",
    "    <li>For added <b>energy</b>, consider adding more <b>loudness</b>, but don't overdo it;</li>\n",
    "    <li><b>Instrumentality</b> is not a must-have for a hit song. Electronic music and vocal-driven Hip-Hop/Rap score high in <b>danceability</b>;</li>\n",
    "</ol>\n",
    "\n",
    "<p>Even though the findings are plentiful, there are many ways the study could be improved.</p>"
   ]
  },
  {
   "cell_type": "markdown",
   "id": "821a7395",
   "metadata": {},
   "source": [
    "<h1 id=\"improvements\">Improvements for Future Studies</h1>\n",
    "<p>While the dataset has provided valueable insights, the following additions can support the selection of a hit song's criteria:</p>\n",
    "<h2>Numeric Variables</h2>\n",
    "<ul>\n",
    "    <li>Tempo - BPM of the song</li>\n",
    "    <li>Lyrical complexity score</li>\n",
    "</ul>\n",
    "\n",
    "<h2>Additional Analysis</h2>\n",
    "<ul>\n",
    "    <li>Gender influence in specific genre success</li>\n",
    "    <li>Most successful sub-genres of pop</li>\n",
    "</ul>\n",
    "\n",
    "<h2>Dataset Extensions</h2>\n",
    "<ul>\n",
    "    <li>Top 100 charts</li>\n",
    "    <li>Charts by region / continent</li>\n",
    "</ul>"
   ]
  },
  {
   "cell_type": "markdown",
   "id": "13b1cd70",
   "metadata": {},
   "source": []
  }
 ],
 "metadata": {
  "kernelspec": {
   "display_name": "Python 3",
   "language": "python",
   "name": "python3"
  },
  "language_info": {
   "codemirror_mode": {
    "name": "ipython",
    "version": 3
   },
   "file_extension": ".py",
   "mimetype": "text/x-python",
   "name": "python",
   "nbconvert_exporter": "python",
   "pygments_lexer": "ipython3",
   "version": "3.12.6"
  }
 },
 "nbformat": 4,
 "nbformat_minor": 5
}
